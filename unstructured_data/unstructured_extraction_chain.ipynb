{
 "cells": [
  {
   "cell_type": "markdown",
   "metadata": {},
   "source": [
    "# Unstructured Data Extraction \n",
    "from a CSV using `create_extraction_chain`"
   ]
  },
  {
   "cell_type": "markdown",
   "metadata": {},
   "source": [
    "Imports"
   ]
  },
  {
   "cell_type": "code",
   "execution_count": 8,
   "metadata": {},
   "outputs": [],
   "source": [
    "import pandas as pd\n",
    "from langchain.chains import create_extraction_chain\n",
    "from langchain.chat_models import ChatOpenAI"
   ]
  },
  {
   "cell_type": "markdown",
   "metadata": {},
   "source": [
    "Load Your Data"
   ]
  },
  {
   "cell_type": "code",
   "execution_count": 9,
   "metadata": {},
   "outputs": [],
   "source": [
    "# Load in the data.csv (semicolon separated) file\n",
    "df = pd.read_csv(\"data.tsv\", sep='\\t')"
   ]
  },
  {
   "cell_type": "markdown",
   "metadata": {},
   "source": [
    "Define Schema based on your data"
   ]
  },
  {
   "cell_type": "code",
   "execution_count": 10,
   "metadata": {},
   "outputs": [],
   "source": [
    "# Define Schema based on your data\n",
    "schema = {\n",
    "    \"properties\": {\n",
    "        \"company\": {\"type\": \"string\"},\n",
    "        \"offering\": {\"type\": \"string\"},\n",
    "        \"advantage\": {\"type\": \"string\"},\n",
    "        \"products_and_services\": {\"type\": \"string\"},\n",
    "        \"additional_details\": {\"type\": \"string\"},\n",
    "    }\n",
    "}"
   ]
  },
  {
   "cell_type": "markdown",
   "metadata": {},
   "source": [
    "Create an Extraction Chain"
   ]
  },
  {
   "cell_type": "code",
   "execution_count": 11,
   "metadata": {},
   "outputs": [],
   "source": [
    "\n",
    "# Create extraction chain\n",
    "llm = ChatOpenAI(temperature=0, model=\"gpt-3.5-turbo\")\n",
    "chain = create_extraction_chain(schema, llm)\n"
   ]
  },
  {
   "cell_type": "markdown",
   "metadata": {},
   "source": [
    "Extract Information and Fill in the Dataframe"
   ]
  },
  {
   "cell_type": "code",
   "execution_count": 12,
   "metadata": {},
   "outputs": [],
   "source": [
    "# Extract information and create a DataFrame from the list of dictionaries\n",
    "extracted_data = df['INTEL'].apply(lambda x: chain.run(x)[0]).apply(pd.Series)\n",
    "\n",
    "# Concatenate the extracted_data DataFrame with the original df\n",
    "df = pd.concat([df, extracted_data], axis=1)"
   ]
  },
  {
   "cell_type": "markdown",
   "metadata": {},
   "source": [
    "Display the Data"
   ]
  },
  {
   "cell_type": "code",
   "execution_count": 13,
   "metadata": {},
   "outputs": [
    {
     "data": {
      "text/html": [
       "<div>\n",
       "<style scoped>\n",
       "    .dataframe tbody tr th:only-of-type {\n",
       "        vertical-align: middle;\n",
       "    }\n",
       "\n",
       "    .dataframe tbody tr th {\n",
       "        vertical-align: top;\n",
       "    }\n",
       "\n",
       "    .dataframe thead th {\n",
       "        text-align: right;\n",
       "    }\n",
       "</style>\n",
       "<table border=\"1\" class=\"dataframe\">\n",
       "  <thead>\n",
       "    <tr style=\"text-align: right;\">\n",
       "      <th></th>\n",
       "      <th>MONTH</th>\n",
       "      <th>INTEL</th>\n",
       "      <th>REPORTER</th>\n",
       "      <th>RESPONSIBLE</th>\n",
       "      <th>company</th>\n",
       "      <th>offering</th>\n",
       "      <th>advantage</th>\n",
       "      <th>products_and_services</th>\n",
       "      <th>additional_details</th>\n",
       "    </tr>\n",
       "  </thead>\n",
       "  <tbody>\n",
       "    <tr>\n",
       "      <th>0</th>\n",
       "      <td>Jan</td>\n",
       "      <td>Coco candy co is using a 77Tyrbo Choco machine...</td>\n",
       "      <td>Crumble</td>\n",
       "      <td>Mochi</td>\n",
       "      <td>Coco candy co</td>\n",
       "      <td>77Tyrbo Choco machine</td>\n",
       "      <td></td>\n",
       "      <td>candy gummies</td>\n",
       "      <td></td>\n",
       "    </tr>\n",
       "    <tr>\n",
       "      <th>1</th>\n",
       "      <td>Feb</td>\n",
       "      <td>Sugar &amp; Spice Cookies experiments with edible ...</td>\n",
       "      <td>Sprinkle</td>\n",
       "      <td>Sakura</td>\n",
       "      <td>Sugar &amp; Spice Cookies</td>\n",
       "      <td>edible flower decorations for cookies</td>\n",
       "      <td>enhance cookie appeal</td>\n",
       "      <td>PetalPrint flower decoration technique</td>\n",
       "      <td>NaN</td>\n",
       "    </tr>\n",
       "    <tr>\n",
       "      <th>2</th>\n",
       "      <td>Mar</td>\n",
       "      <td>Heavenly Sweets Patisserie streamlines pastry ...</td>\n",
       "      <td>Patty</td>\n",
       "      <td>Pocky</td>\n",
       "      <td>Heavenly Sweets Patisserie</td>\n",
       "      <td>EffiPastry machine</td>\n",
       "      <td>streamlines pastry assembly</td>\n",
       "      <td></td>\n",
       "      <td>Consider evaluating and optimizing our product...</td>\n",
       "    </tr>\n",
       "    <tr>\n",
       "      <th>3</th>\n",
       "      <td>Apr</td>\n",
       "      <td>Cinnamon Bliss Bakery adds a secret touch of c...</td>\n",
       "      <td>Crumb</td>\n",
       "      <td>Sora</td>\n",
       "      <td>Cinnamon Bliss Bakery</td>\n",
       "      <td>CinnaMagic ingredient</td>\n",
       "      <td>distinctive flavor</td>\n",
       "      <td>NaN</td>\n",
       "      <td>NaN</td>\n",
       "    </tr>\n",
       "    <tr>\n",
       "      <th>4</th>\n",
       "      <td>Jul</td>\n",
       "      <td>Choco Haven factory uses organic and locally s...</td>\n",
       "      <td>Vanilla Bean</td>\n",
       "      <td>Kiki</td>\n",
       "      <td>Choco Haven</td>\n",
       "      <td>chocolates</td>\n",
       "      <td>sustainable and high-quality ingredients</td>\n",
       "      <td>EcoCocoa brand</td>\n",
       "      <td>NaN</td>\n",
       "    </tr>\n",
       "  </tbody>\n",
       "</table>\n",
       "</div>"
      ],
      "text/plain": [
       "  MONTH                                              INTEL      REPORTER  \\\n",
       "0   Jan  Coco candy co is using a 77Tyrbo Choco machine...       Crumble   \n",
       "1   Feb  Sugar & Spice Cookies experiments with edible ...      Sprinkle   \n",
       "2   Mar  Heavenly Sweets Patisserie streamlines pastry ...         Patty   \n",
       "3   Apr  Cinnamon Bliss Bakery adds a secret touch of c...         Crumb   \n",
       "4   Jul  Choco Haven factory uses organic and locally s...  Vanilla Bean   \n",
       "\n",
       "  RESPONSIBLE                     company  \\\n",
       "0       Mochi               Coco candy co   \n",
       "1      Sakura       Sugar & Spice Cookies   \n",
       "2       Pocky  Heavenly Sweets Patisserie   \n",
       "3        Sora       Cinnamon Bliss Bakery   \n",
       "4        Kiki                 Choco Haven   \n",
       "\n",
       "                                offering  \\\n",
       "0                  77Tyrbo Choco machine   \n",
       "1  edible flower decorations for cookies   \n",
       "2                     EffiPastry machine   \n",
       "3                  CinnaMagic ingredient   \n",
       "4                             chocolates   \n",
       "\n",
       "                                  advantage  \\\n",
       "0                                             \n",
       "1                     enhance cookie appeal   \n",
       "2               streamlines pastry assembly   \n",
       "3                        distinctive flavor   \n",
       "4  sustainable and high-quality ingredients   \n",
       "\n",
       "                    products_and_services  \\\n",
       "0                           candy gummies   \n",
       "1  PetalPrint flower decoration technique   \n",
       "2                                           \n",
       "3                                     NaN   \n",
       "4                          EcoCocoa brand   \n",
       "\n",
       "                                  additional_details  \n",
       "0                                                     \n",
       "1                                                NaN  \n",
       "2  Consider evaluating and optimizing our product...  \n",
       "3                                                NaN  \n",
       "4                                                NaN  "
      ]
     },
     "execution_count": 13,
     "metadata": {},
     "output_type": "execute_result"
    }
   ],
   "source": [
    "df.head()"
   ]
  }
 ],
 "metadata": {
  "kernelspec": {
   "display_name": "Python 3",
   "language": "python",
   "name": "python3"
  },
  "language_info": {
   "codemirror_mode": {
    "name": "ipython",
    "version": 3
   },
   "file_extension": ".py",
   "mimetype": "text/x-python",
   "name": "python",
   "nbconvert_exporter": "python",
   "pygments_lexer": "ipython3",
   "version": "3.11.7"
  }
 },
 "nbformat": 4,
 "nbformat_minor": 2
}
