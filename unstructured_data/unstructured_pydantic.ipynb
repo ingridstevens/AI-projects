{
 "cells": [
  {
   "cell_type": "markdown",
   "metadata": {},
   "source": [
    "# Unstructured Data Extraction \n",
    "from a CSV using `PydanticOutputParser`"
   ]
  },
  {
   "cell_type": "markdown",
   "metadata": {},
   "source": [
    "Imports"
   ]
  },
  {
   "cell_type": "code",
   "execution_count": null,
   "metadata": {},
   "outputs": [],
   "source": [
    "import pandas as pd\n",
    "from typing import Optional, Sequence\n",
    "from langchain.llms import OpenAI\n",
    "from langchain.output_parsers import PydanticOutputParser\n",
    "from langchain.prompts import PromptTemplate\n",
    "from pydantic import BaseModel"
   ]
  },
  {
   "cell_type": "markdown",
   "metadata": {},
   "source": [
    "Load Your Data"
   ]
  },
  {
   "cell_type": "code",
   "execution_count": null,
   "metadata": {},
   "outputs": [],
   "source": [
    "# Load data from CSV\n",
    "df = pd.read_csv(\"data.tsv\", sep='\\t')"
   ]
  },
  {
   "cell_type": "markdown",
   "metadata": {},
   "source": [
    "Create Pydantic Class for your Use Case"
   ]
  },
  {
   "cell_type": "code",
   "execution_count": null,
   "metadata": {},
   "outputs": [],
   "source": [
    "# Pydantic models for competitive intelligence\n",
    "class Competitor(BaseModel):\n",
    "    company: str\n",
    "    offering: str\n",
    "    advantage: str\n",
    "    products_and_services: str\n",
    "    additional_details: str\n",
    "\n",
    "class Company(BaseModel):\n",
    "    \"\"\"Identifying information about all competitive intelligence in a text.\"\"\"\n",
    "    company: Sequence[Competitor]\n",
    "\n",
    "# Set up a Pydantic parser and prompt template\n",
    "parser = PydanticOutputParser(pydantic_object=Company)\n",
    "prompt = PromptTemplate(\n",
    "    template=\"Answer the user query.\\n{format_instructions}\\n{query}\\n\",\n",
    "    input_variables=[\"query\"],\n",
    "    partial_variables={\"format_instructions\": parser.get_format_instructions()},\n",
    ")"
   ]
  },
  {
   "cell_type": "markdown",
   "metadata": {},
   "source": [
    "Define a Function to Process Each Row of Data and Extract Information"
   ]
  },
  {
   "cell_type": "code",
   "execution_count": null,
   "metadata": {},
   "outputs": [],
   "source": [
    "# Function to process each row and extract information\n",
    "def process_row(row):\n",
    "    _input = prompt.format_prompt(query=row['INTEL'])\n",
    "    model = OpenAI(temperature=0)\n",
    "    output = model(_input.to_string())\n",
    "    result = parser.parse(output)\n",
    "    \n",
    "    # Convert Pydantic result to a dictionary\n",
    "    competitor_data = result.model_dump()\n",
    "\n",
    "    # Flatten the nested structure for DataFrame creation\n",
    "    flat_data = {'INTEL': [], 'company': [], 'offering': [], 'advantage': [], 'products_and_services': [], 'additional_details': []}\n",
    "\n",
    "    for entry in competitor_data['company']:\n",
    "        flat_data['INTEL'].append(row['INTEL'])\n",
    "        flat_data['company'].append(entry['company'])\n",
    "        flat_data['offering'].append(entry['offering'])\n",
    "        flat_data['advantage'].append(entry['advantage'])\n",
    "        flat_data['products_and_services'].append(entry['products_and_services'])\n",
    "        flat_data['additional_details'].append(entry['additional_details'])\n",
    "\n",
    "    # Create a DataFrame from the flattened data\n",
    "    df_cake = pd.DataFrame(flat_data)\n",
    "\n",
    "    return df_cake"
   ]
  },
  {
   "cell_type": "markdown",
   "metadata": {},
   "source": [
    "Apply the function to each row and concatenate the results"
   ]
  },
  {
   "cell_type": "code",
   "execution_count": null,
   "metadata": {},
   "outputs": [],
   "source": [
    "# Apply the function to each row and concatenate the results\n",
    "intel_df = pd.concat(df.apply(process_row, axis=1).tolist(), ignore_index=True)"
   ]
  },
  {
   "cell_type": "markdown",
   "metadata": {},
   "source": [
    "Display the Data"
   ]
  },
  {
   "cell_type": "code",
   "execution_count": null,
   "metadata": {},
   "outputs": [],
   "source": [
    "# Display the resulting DataFrame\n",
    "intel_df.head(10)"
   ]
  }
 ],
 "metadata": {
  "kernelspec": {
   "display_name": "Python 3",
   "language": "python",
   "name": "python3"
  },
  "language_info": {
   "codemirror_mode": {
    "name": "ipython",
    "version": 3
   },
   "file_extension": ".py",
   "mimetype": "text/x-python",
   "name": "python",
   "nbconvert_exporter": "python",
   "pygments_lexer": "ipython3",
   "version": "3.11.7"
  }
 },
 "nbformat": 4,
 "nbformat_minor": 2
}
