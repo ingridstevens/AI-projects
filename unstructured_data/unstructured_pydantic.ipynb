{
 "cells": [
  {
   "cell_type": "markdown",
   "metadata": {},
   "source": [
    "# Unstructured Data Extraction \n",
    "from a CSV using `PydanticOutputParser`"
   ]
  },
  {
   "cell_type": "markdown",
   "metadata": {},
   "source": [
    "Imports"
   ]
  },
  {
   "cell_type": "code",
   "execution_count": 1,
   "metadata": {},
   "outputs": [],
   "source": [
    "import pandas as pd\n",
    "from typing import Optional, Sequence\n",
    "from langchain.llms import OpenAI\n",
    "from langchain.output_parsers import PydanticOutputParser\n",
    "from langchain.prompts import PromptTemplate\n",
    "from pydantic import BaseModel"
   ]
  },
  {
   "cell_type": "markdown",
   "metadata": {},
   "source": [
    "Load Your Data"
   ]
  },
  {
   "cell_type": "code",
   "execution_count": 2,
   "metadata": {},
   "outputs": [],
   "source": [
    "# Load data from CSV\n",
    "df = pd.read_csv(\"data.tsv\", sep='\\t')"
   ]
  },
  {
   "cell_type": "markdown",
   "metadata": {},
   "source": [
    "Create Pydantic Class for your Use Case"
   ]
  },
  {
   "cell_type": "code",
   "execution_count": 3,
   "metadata": {},
   "outputs": [],
   "source": [
    "# Pydantic models for competitive intelligence\n",
    "class Competitor(BaseModel):\n",
    "    company: str\n",
    "    offering: str\n",
    "    advantage: str\n",
    "    products_and_services: str\n",
    "    additional_details: str\n",
    "\n",
    "class Company(BaseModel):\n",
    "    \"\"\"Identifying information about all competitive intelligence in a text.\"\"\"\n",
    "    company: Sequence[Competitor]\n",
    "\n",
    "# Set up a Pydantic parser and prompt template\n",
    "parser = PydanticOutputParser(pydantic_object=Company)\n",
    "prompt = PromptTemplate(\n",
    "    template=\"Answer the user query.\\n{format_instructions}\\n{query}\\n\",\n",
    "    input_variables=[\"query\"],\n",
    "    partial_variables={\"format_instructions\": parser.get_format_instructions()},\n",
    ")"
   ]
  },
  {
   "cell_type": "markdown",
   "metadata": {},
   "source": [
    "Define a Function to Process Each Row of Data and Extract Information"
   ]
  },
  {
   "cell_type": "code",
   "execution_count": 4,
   "metadata": {},
   "outputs": [],
   "source": [
    "# Function to process each row and extract information\n",
    "def process_row(row):\n",
    "    _input = prompt.format_prompt(query=row['INTEL'])\n",
    "    model = OpenAI(temperature=0)\n",
    "    output = model(_input.to_string())\n",
    "    result = parser.parse(output)\n",
    "    \n",
    "    # Convert Pydantic result to a dictionary\n",
    "    competitor_data = result.model_dump()\n",
    "\n",
    "    # Flatten the nested structure for DataFrame creation\n",
    "    flat_data = {'INTEL': [], 'company': [], 'offering': [], 'advantage': [], 'products_and_services': [], 'additional_details': []}\n",
    "\n",
    "    for entry in competitor_data['company']:\n",
    "        flat_data['INTEL'].append(row['INTEL'])\n",
    "        flat_data['company'].append(entry['company'])\n",
    "        flat_data['offering'].append(entry['offering'])\n",
    "        flat_data['advantage'].append(entry['advantage'])\n",
    "        flat_data['products_and_services'].append(entry['products_and_services'])\n",
    "        flat_data['additional_details'].append(entry['additional_details'])\n",
    "\n",
    "    # Create a DataFrame from the flattened data\n",
    "    df_cake = pd.DataFrame(flat_data)\n",
    "\n",
    "    return df_cake"
   ]
  },
  {
   "cell_type": "markdown",
   "metadata": {},
   "source": [
    "Apply the function to each row and concatenate the results"
   ]
  },
  {
   "cell_type": "code",
   "execution_count": 5,
   "metadata": {},
   "outputs": [],
   "source": [
    "# Apply the function to each row and concatenate the results\n",
    "intel_df = pd.concat(df.apply(process_row, axis=1).tolist(), ignore_index=True)"
   ]
  },
  {
   "cell_type": "markdown",
   "metadata": {},
   "source": [
    "Display the Data"
   ]
  },
  {
   "cell_type": "code",
   "execution_count": 6,
   "metadata": {},
   "outputs": [
    {
     "data": {
      "text/html": [
       "<div>\n",
       "<style scoped>\n",
       "    .dataframe tbody tr th:only-of-type {\n",
       "        vertical-align: middle;\n",
       "    }\n",
       "\n",
       "    .dataframe tbody tr th {\n",
       "        vertical-align: top;\n",
       "    }\n",
       "\n",
       "    .dataframe thead th {\n",
       "        text-align: right;\n",
       "    }\n",
       "</style>\n",
       "<table border=\"1\" class=\"dataframe\">\n",
       "  <thead>\n",
       "    <tr style=\"text-align: right;\">\n",
       "      <th></th>\n",
       "      <th>INTEL</th>\n",
       "      <th>company</th>\n",
       "      <th>offering</th>\n",
       "      <th>advantage</th>\n",
       "      <th>products_and_services</th>\n",
       "      <th>additional_details</th>\n",
       "    </tr>\n",
       "  </thead>\n",
       "  <tbody>\n",
       "    <tr>\n",
       "      <th>0</th>\n",
       "      <td>Coco candy co is using a 77Tyrbo Choco machine...</td>\n",
       "      <td>Coco candy co</td>\n",
       "      <td>77Tyrbo Choco machine</td>\n",
       "      <td>coating candy gummies</td>\n",
       "      <td>candy gummies</td>\n",
       "      <td>using 77Tyrbo Choco machine to coat their cand...</td>\n",
       "    </tr>\n",
       "    <tr>\n",
       "      <th>1</th>\n",
       "      <td>Sugar &amp; Spice Cookies experiments with edible ...</td>\n",
       "      <td>Sugar &amp; Spice Cookies</td>\n",
       "      <td>edible flower decorations</td>\n",
       "      <td>PetalPrint technique</td>\n",
       "      <td>cookies</td>\n",
       "      <td>enhancing cookie appeal</td>\n",
       "    </tr>\n",
       "    <tr>\n",
       "      <th>2</th>\n",
       "      <td>Heavenly Sweets Patisserie streamlines pastry ...</td>\n",
       "      <td>EffiPastry</td>\n",
       "      <td>EffiPastry machine</td>\n",
       "      <td>streamlines pastry assembly</td>\n",
       "      <td>pastry assembly machines</td>\n",
       "      <td>EffiPastry machine is a game changer in the pa...</td>\n",
       "    </tr>\n",
       "    <tr>\n",
       "      <th>3</th>\n",
       "      <td>Cinnamon Bliss Bakery adds a secret touch of c...</td>\n",
       "      <td>Cinnamon Bliss Bakery</td>\n",
       "      <td>Chocolate Brownies</td>\n",
       "      <td>CinnaMagic ingredient</td>\n",
       "      <td>Baked Goods</td>\n",
       "      <td>Distinctive flavor with secret touch of cinnamon</td>\n",
       "    </tr>\n",
       "    <tr>\n",
       "      <th>4</th>\n",
       "      <td>Choco Haven factory uses organic and locally s...</td>\n",
       "      <td>Choco Haven</td>\n",
       "      <td>chocolates</td>\n",
       "      <td>organic and locally sourced ingredients</td>\n",
       "      <td>EcoCocoa brand</td>\n",
       "      <td>Shifting towards sustainable and high-quality ...</td>\n",
       "    </tr>\n",
       "    <tr>\n",
       "      <th>5</th>\n",
       "      <td>Decadent Delights Bakery hosts pastry decorati...</td>\n",
       "      <td>DecorPro</td>\n",
       "      <td>Decorating Classes</td>\n",
       "      <td>High-quality decorating tools</td>\n",
       "      <td>DecorPro decorating tools</td>\n",
       "      <td>Decadent Delights Bakery is considering offeri...</td>\n",
       "    </tr>\n",
       "    <tr>\n",
       "      <th>6</th>\n",
       "      <td>At Velvet Frosting Cupcakes, our team learned ...</td>\n",
       "      <td>SeasonalJoy</td>\n",
       "      <td>Seasonal Pastry Menu</td>\n",
       "      <td>Rotating seasonal menu</td>\n",
       "      <td>Subscription platform</td>\n",
       "      <td>Changes monthly</td>\n",
       "    </tr>\n",
       "    <tr>\n",
       "      <th>7</th>\n",
       "      <td>At Velvet Frosting Cupcakes, our team learned ...</td>\n",
       "      <td>FloralStamp</td>\n",
       "      <td>Cookie Stamper</td>\n",
       "      <td>Special touch to cookies</td>\n",
       "      <td>Cookie stamper</td>\n",
       "      <td>Customizable designs</td>\n",
       "    </tr>\n",
       "  </tbody>\n",
       "</table>\n",
       "</div>"
      ],
      "text/plain": [
       "                                               INTEL                company  \\\n",
       "0  Coco candy co is using a 77Tyrbo Choco machine...          Coco candy co   \n",
       "1  Sugar & Spice Cookies experiments with edible ...  Sugar & Spice Cookies   \n",
       "2  Heavenly Sweets Patisserie streamlines pastry ...             EffiPastry   \n",
       "3  Cinnamon Bliss Bakery adds a secret touch of c...  Cinnamon Bliss Bakery   \n",
       "4  Choco Haven factory uses organic and locally s...            Choco Haven   \n",
       "5  Decadent Delights Bakery hosts pastry decorati...               DecorPro   \n",
       "6  At Velvet Frosting Cupcakes, our team learned ...            SeasonalJoy   \n",
       "7  At Velvet Frosting Cupcakes, our team learned ...            FloralStamp   \n",
       "\n",
       "                    offering                                advantage  \\\n",
       "0      77Tyrbo Choco machine                    coating candy gummies   \n",
       "1  edible flower decorations                     PetalPrint technique   \n",
       "2         EffiPastry machine              streamlines pastry assembly   \n",
       "3         Chocolate Brownies                    CinnaMagic ingredient   \n",
       "4                 chocolates  organic and locally sourced ingredients   \n",
       "5         Decorating Classes            High-quality decorating tools   \n",
       "6       Seasonal Pastry Menu                   Rotating seasonal menu   \n",
       "7             Cookie Stamper                 Special touch to cookies   \n",
       "\n",
       "       products_and_services  \\\n",
       "0              candy gummies   \n",
       "1                    cookies   \n",
       "2   pastry assembly machines   \n",
       "3                Baked Goods   \n",
       "4             EcoCocoa brand   \n",
       "5  DecorPro decorating tools   \n",
       "6      Subscription platform   \n",
       "7             Cookie stamper   \n",
       "\n",
       "                                  additional_details  \n",
       "0  using 77Tyrbo Choco machine to coat their cand...  \n",
       "1                            enhancing cookie appeal  \n",
       "2  EffiPastry machine is a game changer in the pa...  \n",
       "3   Distinctive flavor with secret touch of cinnamon  \n",
       "4  Shifting towards sustainable and high-quality ...  \n",
       "5  Decadent Delights Bakery is considering offeri...  \n",
       "6                                    Changes monthly  \n",
       "7                               Customizable designs  "
      ]
     },
     "execution_count": 6,
     "metadata": {},
     "output_type": "execute_result"
    }
   ],
   "source": [
    "# Display the resulting DataFrame\n",
    "intel_df.head(10)"
   ]
  },
  {
   "cell_type": "markdown",
   "metadata": {},
   "source": [
    "### Save the Data to a CSV file.\n",
    "\n",
    "Note: this CSV file can be used as input for the `unstructured_analyze_agent.ipynb` notebook.\n"
   ]
  },
  {
   "cell_type": "code",
   "execution_count": 8,
   "metadata": {},
   "outputs": [],
   "source": [
    "# Save the DataFrame to a CSV file\n",
    "! mkdir -p data\n",
    "intel_df.to_csv('data/intel.csv', index=False)"
   ]
  },
  {
   "cell_type": "code",
   "execution_count": null,
   "metadata": {},
   "outputs": [],
   "source": []
  }
 ],
 "metadata": {
  "kernelspec": {
   "display_name": "Python 3",
   "language": "python",
   "name": "python3"
  },
  "language_info": {
   "codemirror_mode": {
    "name": "ipython",
    "version": 3
   },
   "file_extension": ".py",
   "mimetype": "text/x-python",
   "name": "python",
   "nbconvert_exporter": "python",
   "pygments_lexer": "ipython3",
   "version": "3.11.7"
  }
 },
 "nbformat": 4,
 "nbformat_minor": 2
}
